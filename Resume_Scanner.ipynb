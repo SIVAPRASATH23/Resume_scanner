{
  "cells": [
    {
      "cell_type": "code",
      "execution_count": 1,
      "id": "0ee0d7f0",
      "metadata": {
        "colab": {
          "base_uri": "https://localhost:8080/"
        },
        "id": "0ee0d7f0",
        "outputId": "bb24964c-d5f7-46a7-e490-52c47c8059f2"
      },
      "outputs": [
        {
          "output_type": "stream",
          "name": "stdout",
          "text": [
            "Looking in indexes: https://pypi.org/simple, https://us-python.pkg.dev/colab-wheels/public/simple/\n",
            "Collecting docx2txt\n",
            "  Downloading docx2txt-0.8.tar.gz (2.8 kB)\n",
            "Building wheels for collected packages: docx2txt\n",
            "  Building wheel for docx2txt (setup.py) ... \u001b[?25l\u001b[?25hdone\n",
            "  Created wheel for docx2txt: filename=docx2txt-0.8-py3-none-any.whl size=3980 sha256=3cbe4052442ac831c224fe3d81972ac912416d16b7654872e2b73d1014f28100\n",
            "  Stored in directory: /root/.cache/pip/wheels/b7/20/b2/473e3aea9a0c0d3e7b2f7bd81d06d0794fec12752733d1f3a8\n",
            "Successfully built docx2txt\n",
            "Installing collected packages: docx2txt\n",
            "Successfully installed docx2txt-0.8\n"
          ]
        }
      ],
      "source": [
        "!pip install docx2txt\n",
        "import docx2txt"
      ]
    },
    {
      "cell_type": "code",
      "execution_count": 2,
      "id": "12cf7d6b",
      "metadata": {
        "colab": {
          "base_uri": "https://localhost:8080/"
        },
        "id": "12cf7d6b",
        "outputId": "42ae83f3-8ef8-407d-cc2d-1979b99c44c4"
      },
      "outputs": [
        {
          "output_type": "stream",
          "name": "stdout",
          "text": [
            "Job brief\n",
            "\n",
            "We are looking for a Senior Web Developer to build and maintain functional web pages and applications.\n",
            "\n",
            "Senior Web Developer responsibilities include leading a team of junior developers, refining website specifications and resolving technical issues. To be successful in this role, you should have extensive experience building web pages from scratch and in-depth knowledge of at least one of the following programming languages: Javascript, Ruby or PHP.\n",
            "\n",
            "Ultimately, you will ensure our web pages are up and running and cover both internal and customer needs.\n",
            "\n",
            "Responsibilities\n",
            "\n",
            "Identify user and system requirements for new websites and applications\n",
            "\n",
            "Prioritize software development projects, set timelines and assign tasks to team members\n",
            "\n",
            "Create wireframes to decide on layout\n",
            "\n",
            "Write or review code for various applications\n",
            "\n",
            "Run functionality testings and debug code\n",
            "\n",
            "Oversee junior web developers and evaluate their performance\n",
            "\n",
            "Liaise with designers to decide on UI/UX elements (like graphics and navigation buttons)\n",
            "\n",
            "Ensure our software documentation is up-to-date\n",
            "\n",
            "Collaborate with mobile developers to build mobile-responsive websites\n",
            "\n",
            "Requirements\n",
            "\n",
            "Work experience as a Senior Web Developer\n",
            "\n",
            "Expertise in at least one programming language, preferably Javascript, Ruby or PHP\n",
            "\n",
            "Solid knowledge of HTML/CSS\n",
            "\n",
            "Experience with mockup and UI prototyping tools\n",
            "\n",
            "Understanding of security practices\n",
            "\n",
            "Familiarity with network diagnostics tools\n",
            "\n",
            "Team management skills\n",
            "\n",
            "BSc/MSc in Computer Science or relevant field\n"
          ]
        }
      ],
      "source": [
        "description = docx2txt.process('Description.docx')\n",
        "resume = docx2txt.process('Resume.docx')\n",
        "print(description)"
      ]
    },
    {
      "cell_type": "code",
      "execution_count": 3,
      "id": "77d257c1",
      "metadata": {
        "colab": {
          "base_uri": "https://localhost:8080/"
        },
        "id": "77d257c1",
        "outputId": "8c6e9fad-53b2-493e-f884-e47d71b3b061"
      },
      "outputs": [
        {
          "output_type": "stream",
          "name": "stdout",
          "text": [
            "[[1.         0.56826611]\n",
            " [0.56826611 1.        ]]\n"
          ]
        }
      ],
      "source": [
        "content = [description, resume]\n",
        "from sklearn.feature_extraction.text import CountVectorizer\n",
        "cv = CountVectorizer()\n",
        "count_matrix = cv.fit_transform(content)\n",
        "from sklearn.metrics.pairwise import cosine_similarity\n",
        "mat = cosine_similarity(count_matrix)\n",
        "print(mat)"
      ]
    },
    {
      "cell_type": "code",
      "execution_count": 4,
      "id": "4d4acc51",
      "metadata": {
        "colab": {
          "base_uri": "https://localhost:8080/"
        },
        "id": "4d4acc51",
        "outputId": "477d9585-d9f4-474c-cc0a-649d71141179"
      },
      "outputs": [
        {
          "output_type": "stream",
          "name": "stdout",
          "text": [
            "Resume Matching : 56.82661125304872%\n"
          ]
        }
      ],
      "source": [
        "print('Resume Matching : '+  str(mat[1][0]*100) + '%')"
      ]
    },
    {
      "cell_type": "code",
      "source": [
        ""
      ],
      "metadata": {
        "id": "oVSfC943htka"
      },
      "id": "oVSfC943htka",
      "execution_count": null,
      "outputs": []
    }
  ],
  "metadata": {
    "kernelspec": {
      "display_name": "Python 3 (ipykernel)",
      "language": "python",
      "name": "python3"
    },
    "language_info": {
      "codemirror_mode": {
        "name": "ipython",
        "version": 3
      },
      "file_extension": ".py",
      "mimetype": "text/x-python",
      "name": "python",
      "nbconvert_exporter": "python",
      "pygments_lexer": "ipython3",
      "version": "3.9.7"
    },
    "colab": {
      "name": "Resume_Scanner.ipynb",
      "provenance": []
    }
  },
  "nbformat": 4,
  "nbformat_minor": 5
}